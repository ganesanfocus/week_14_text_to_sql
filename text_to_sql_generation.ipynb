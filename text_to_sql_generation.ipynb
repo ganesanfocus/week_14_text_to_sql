{
 "cells": [
  {
   "cell_type": "code",
   "execution_count": null,
   "id": "f768a5ee",
   "metadata": {},
   "outputs": [],
   "source": [
    "# import required libraries\n",
    "import os\n",
    "from flask import Flask, request, jsonify\n",
    "from openai import OpenAI\n",
    "from dotenv import load_dotenv\n",
    "import json\n",
    "import re"
   ]
  },
  {
   "cell_type": "code",
   "execution_count": null,
   "id": "6e758df1",
   "metadata": {},
   "outputs": [],
   "source": [
    "# Load OPEN AI Key\n",
    "load_dotenv()\n",
    "client = OpenAI(api_key=os.getenv(\"OPENAI_API_KEY\"))"
   ]
  },
  {
   "cell_type": "code",
   "execution_count": null,
   "id": "81e7e92c",
   "metadata": {},
   "outputs": [],
   "source": [
    "# Read schema prompt and few shot example files function\n",
    "def load_file(path):\n",
    "        with open(path, \"r\", encoding=\"utf-8\") as f:\n",
    "            return f.read()"
   ]
  },
  {
   "cell_type": "code",
   "execution_count": null,
   "id": "c4bab920",
   "metadata": {},
   "outputs": [],
   "source": [
    "# Get prompt instruction with our schema prompt and few shot prompt. Also here we added instruction to generate sql\n",
    "def get_prompt(user_query):\n",
    "        schema   = load_file(\"schema_prompt_jo.txt\")\n",
    "        examples = load_file(\"few_shot_examples_jo.txt\")\n",
    "        prompt = f\"\"\"\n",
    "        You are an AI that generates only SQL SELECT queries for Microsoft SQL Server.\n",
    "\n",
    "        Schema:\n",
    "        {schema}\n",
    "\n",
    "        Examples:\n",
    "        {examples}\n",
    "\n",
    "        Instructions:\n",
    "        - Only generate SELECT queries. Do not use INSERT, UPDATE, DELETE, DROP, TRUNCATE, or CLEAR.\n",
    "        - Only respond to requests related to the database schema. If the input is unrelated, respond with:\n",
    "        \"This request is outside the scope of SQL SELECT generation.\"\n",
    "        - Do not infer or apply status filters (like IsActive = 1, bCompleted = 1, bPercentage = 1, etc.) unless they are clearly mentioned in the user query.\n",
    "        - If a foreign key field (e.g., lRequestID) is NULL in the main table, do not join or select related fields from the foreign table.\n",
    "        - Only include related fields when the foreign key is not NULL.\n",
    "        - Use JOINs or subqueries only when needed for resolving foreign keys or applying filters.\n",
    "        - If a column name contains or ends with \"ID\", use a JOIN to return the corresponding human-readable value from the related table.\n",
    "        - Always include foreign key ID columns from joined tables in the SELECT statement.\n",
    "        - Also include the associated human-readable fields (e.g., names or descriptions) for each ID column and it represent description column Ex: StatueId represent status , using appropriate JOINs based on the schema.\n",
    "        - Do not omit foreign key ID columns from joined tables. Always include both the ID and its readable counterpart.\n",
    "\n",
    "        - Always format the column names in proper English using aliases (use `AS`) in the result. For example:\n",
    "        - `FirstName` → `First Name`\n",
    "        - `lSalesPersonID` → `Sales Person Name` (via join)\n",
    "        - Use only column names from the schema. Do not guess or invent columns.\n",
    "        - “JO” or “contracts” refers to JO Contracts. If your ask regarding status you should should return staus also.\n",
    "        - Customer name: concat company_name, firstname, lastname, city with ' - ' separator. Skip separator for null fields.\n",
    "\n",
    "        \n",
    "        Goal:\n",
    "        Return clean, user-friendly results suitable for reports or dashboards.\n",
    "        Do not include any comments in the SQL output. This includes inline comments (--) and block comments (/* */). The SQL must be completely free of any comments.\n",
    "\n",
    "        User: {user_query}\n",
    "        SQL:\n",
    "        \"\"\"\n",
    "        return prompt"
   ]
  },
  {
   "cell_type": "code",
   "execution_count": null,
   "id": "d1bfcda0",
   "metadata": {},
   "outputs": [],
   "source": [
    "# Generate_NL_TO_SQL_QUERY\n",
    "# Here we call get_prompt function and call OPEN AI API key using 'gpt-4o' model to generate natural language to sql query\n",
    "# We use Microsoft sql server database \n",
    "\n",
    "def Generate_NL_TO_SQL_QUERY(user_query):\n",
    "    prompt = get_prompt(user_query)\n",
    "    response = client.chat.completions.create(\n",
    "        model=\"gpt-4o\",\n",
    "        messages=[{\"role\": \"user\", \"content\": prompt}],\n",
    "        temperature=0,\n",
    "        max_tokens=500\n",
    "    )\n",
    "    \n",
    "    token_usage = {\n",
    "        'prompt_tokens': response.usage.prompt_tokens,\n",
    "        'completion_tokens': response.usage.completion_tokens,\n",
    "        'total_tokens': response.usage.total_tokens\n",
    "    }\n",
    "    \n",
    "    print(token_usage)\n",
    "    ai_res = response.choices[0].message.content.strip()\n",
    "\n",
    "    print(\"gpt_res\", ai_res )\n",
    "    if  \"outside the scope\"  in ai_res:\n",
    "        data = {\"msg\": ai_res, \"status\": 2, \"token_usage\":token_usage,\"query\": \"\"}\n",
    "    else:\n",
    "        ai_res = re.sub(r\"^```sql\\s*|```$\", \"\", ai_res.strip(), flags=re.IGNORECASE | re.MULTILINE)\n",
    "        \n",
    "        data = {\"msg\": \"success\", \"status\": 1, \"token_usage\":token_usage,\"query\": ai_res.strip()}\n",
    "       \n",
    "    return json.dumps(data, default=str)"
   ]
  },
  {
   "cell_type": "code",
   "execution_count": 6,
   "id": "a11fbee2",
   "metadata": {},
   "outputs": [
    {
     "data": {
      "text/plain": [
       "'list of jo contracts'"
      ]
     },
     "execution_count": 6,
     "metadata": {},
     "output_type": "execute_result"
    }
   ],
   "source": [
    "user_query = input(\"Enter your query?\")\n",
    "user_query"
   ]
  },
  {
   "cell_type": "code",
   "execution_count": null,
   "id": "89f9c0f8",
   "metadata": {},
   "outputs": [
    {
     "name": "stdout",
     "output_type": "stream",
     "text": [
      "{'prompt_tokens': 3621, 'completion_tokens': 376, 'total_tokens': 3997}\n",
      "gpt_res SELECT\n",
      "  jc.lJoContractID AS [Contract ID],\n",
      "  jc.lCustomerID AS [Customer ID],\n",
      "  CASE \n",
      "    WHEN jc.lRequestID IS NOT NULL THEN dbo.GetLead_FullName(jc.lRequestID) \n",
      "    ELSE COALESCE(c.sCompany + ' - ', '') + COALESCE(c.FirstName + ' ', '') + COALESCE(c.LastName, '') + ' ' + COALESCE(c.sCity, '') \n",
      "  END AS [Customer Name],\n",
      "  jc.JobName AS [Job Name],\n",
      "  jc.lSalesPersonID AS [Sales Person ID],\n",
      "  CONCAT(sp.sFirstName, ' ', sp.sLastName) AS [Sales Person Name],\n",
      "  jc.lProjectManagerID AS [Project Manager ID],\n",
      "  CONCAT(pm.sFirstName, ' ', pm.sLastName) AS [Project Manager Name],\n",
      "  jc.dStart AS [Start Date],\n",
      "  jc.dEnd AS [End Date],\n",
      "  jc.IsActive AS [Is Active],\n",
      "  jc.lRequestID AS [Request ID],\n",
      "  jc.lScheduleStatusTypeID AS [Schedule Status Type ID],\n",
      "  sst.sScheduleStatusType AS [Schedule Status Type],\n",
      "  CASE \n",
      "    WHEN jc.lJoStatus IN (0, 1) THEN 'Quoted' \n",
      "    WHEN jc.lJoStatus = 2 THEN 'Sold' \n",
      "    ELSE 'Completed' \n",
      "  END AS [Job Status]\n",
      "FROM\n",
      "  JoContracts jc\n",
      "LEFT JOIN JCW_Todds_Customers c ON jc.lCustomerID = c.lCustomerID\n",
      "LEFT JOIN JCW_Users sp ON jc.lSalesPersonID = sp.lUserId\n",
      "LEFT JOIN JCW_Users pm ON jc.lProjectManagerID = pm.lUserId\n",
      "LEFT JOIN ScheduleStatusTypes sst ON jc.lScheduleStatusTypeID = sst.lScheduleStatusTypeID;\n"
     ]
    }
   ],
   "source": [
    "generated_query = Generate_NL_TO_SQL_QUERY(user_query)"
   ]
  },
  {
   "cell_type": "code",
   "execution_count": null,
   "id": "13bbd47a",
   "metadata": {},
   "outputs": [],
   "source": [
    "# Example questions\n",
    "# List of active contracts\n",
    "# Fint out total payment received for last year only\n",
    "# How many contracts generated by leads?\n",
    "# How many contracts generated by customers?\n",
    "# how many JoContractHaulingProduct that are in Sold?\n",
    "# how many Customer added in Multiple  Routes Assigned  from JoWorksheetCustomers"
   ]
  },
  {
   "cell_type": "code",
   "execution_count": null,
   "id": "a19d38e2",
   "metadata": {},
   "outputs": [],
   "source": []
  }
 ],
 "metadata": {
  "kernelspec": {
   "display_name": "venv",
   "language": "python",
   "name": "python3"
  },
  "language_info": {
   "codemirror_mode": {
    "name": "ipython",
    "version": 3
   },
   "file_extension": ".py",
   "mimetype": "text/x-python",
   "name": "python",
   "nbconvert_exporter": "python",
   "pygments_lexer": "ipython3",
   "version": "3.8.10"
  }
 },
 "nbformat": 4,
 "nbformat_minor": 5
}
